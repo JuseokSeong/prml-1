{
 "cells": [
  {
   "cell_type": "code",
   "execution_count": 1,
   "metadata": {},
   "outputs": [
    {
     "name": "stdout",
     "output_type": "stream",
     "text": [
      "Populating the interactive namespace from numpy and matplotlib\n"
     ]
    }
   ],
   "source": [
    "%pylab inline\n",
    "from IPython.display import display, Math, Latex\n",
    "maths = lambda s: display(Math(s))\n",
    "latex = lambda s: display(Latex(s))"
   ]
  },
  {
   "cell_type": "code",
   "execution_count": 2,
   "metadata": {},
   "outputs": [],
   "source": [
    "class Coin(object):\n",
    "    \"\"\"\n",
    "    A simple coin class, that we can toss to get heads or tails, \n",
    "    it could be represented by a binary random variable x,\n",
    "    where x=1 (heads) or x=0 (tails)\n",
    "\n",
    "    Can have a biased coin, by changing mu, the probability x=1 (heads)\n",
    "    \"\"\"\n",
    "    def __init__(self, mu=0.5):\n",
    "        self.mu = mu\n",
    "        \n",
    "    def toss(self, n=1):\n",
    "        return int_(random_sample(size=n) < self.mu)\n",
    "    \n",
    "    def pmf(self, x):\n",
    "        # p(x=0|mu) = (1-mu)\n",
    "        # p(x=1|mu) = mu\n",
    "        # ie, the Bernoulli distribution\n",
    "        # which can be written as:\n",
    "        return self.mu**x * (1-self.mu)**(1-x)\n",
    "\n",
    "    "
   ]
  },
  {
   "cell_type": "code",
   "execution_count": 3,
   "metadata": {},
   "outputs": [
    {
     "data": {
      "text/plain": [
       "array([1])"
      ]
     },
     "execution_count": 3,
     "metadata": {},
     "output_type": "execute_result"
    }
   ],
   "source": [
    "# Now we can toss a coin\n",
    "Coin().toss()"
   ]
  },
  {
   "cell_type": "code",
   "execution_count": 4,
   "metadata": {},
   "outputs": [
    {
     "data": {
      "text/plain": [
       "array([0, 1, 1, 0, 1])"
      ]
     },
     "execution_count": 4,
     "metadata": {},
     "output_type": "execute_result"
    }
   ],
   "source": [
    "# Now we can toss a coin 5 times\n",
    "Coin().toss(5)"
   ]
  },
  {
   "cell_type": "code",
   "execution_count": 5,
   "metadata": {},
   "outputs": [
    {
     "name": "stdout",
     "output_type": "stream",
     "text": [
      "Fair Coin   --  Heads: 490 Tails: 510\n",
      "Biased Coin --  Heads: 593 Tails: 407\n"
     ]
    },
    {
     "data": {
      "text/plain": [
       "Text(0.5, 0, 'Biased Coin')"
      ]
     },
     "execution_count": 5,
     "metadata": {},
     "output_type": "execute_result"
    },
    {
     "data": {
      "image/png": "[encoded data removed]",
      "text/plain": [
       "<Figure size 576x288 with 2 Axes>"
      ]
     },
     "metadata": {
      "needs_background": "light"
     },
     "output_type": "display_data"
    }
   ],
   "source": [
    "# Toss a fair coin and a biased coin 1000 times\n",
    "faircoin = Coin(.5)\n",
    "biasedcoin = Coin(.6)\n",
    "\n",
    "nsamples = 1000\n",
    "\n",
    "ftosses = faircoin.toss(nsamples)\n",
    "btosses = biasedcoin.toss(nsamples)\n",
    "\n",
    "bheads = sum(btosses == 1)\n",
    "btails = sum(btosses == 0)\n",
    "\n",
    "fheads = sum(ftosses == 1)\n",
    "ftails = sum(ftosses == 0)\n",
    "\n",
    "print(\"Fair Coin   -- \", \"Heads:\", fheads, \"Tails:\", ftails)\n",
    "print(\"Biased Coin -- \", \"Heads:\", bheads, \"Tails:\", btails)\n",
    "\n",
    "figure(figsize=(8,4))\n",
    "subplot(1,2,1)\n",
    "b = bar([0,1],[fheads,ftails], color=['r','b'], width=.5)\n",
    "b[0].set_label(\"Heads\")\n",
    "b[1].set_label(\"Tails\")\n",
    "gca().axes.xaxis.set_ticklabels([])\n",
    "legend()\n",
    "xlim(-1,2); ylim(0,650)\n",
    "xlabel(\"Fair Coin\")\n",
    "\n",
    "subplot(1,2,2)\n",
    "b = bar([0,1],[bheads,btails], color=['r','b'], width=.5)\n",
    "b[0].set_label(\"Heads\")\n",
    "b[1].set_label(\"Tails\")\n",
    "gca().axes.xaxis.set_ticklabels([])\n",
    "legend()\n",
    "xlim(-1,2); ylim(0,650)\n",
    "xlabel(\"Biased Coin\")\n"
   ]
  },
  {
   "cell_type": "markdown",
   "metadata": {},
   "source": [
    "Consider $p(x_n|\\mu) = \\mu^{x_n}(1-\\mu)^{1-x_n}$ for each sample $x_n$ in our dataset D"
   ]
  },
  {
   "cell_type": "code",
   "execution_count": 6,
   "metadata": {},
   "outputs": [
    {
     "name": "stdout",
     "output_type": "stream",
     "text": [
      "[0.6 0.4 0.6 0.6 0.4 0.4 0.4 0.6 0.6 0.4 0.4 0.6 0.4 0.6 0.4 0.4 0.6 0.4\n",
      " 0.6 0.4 0.6 0.6 0.4 0.6 0.6 0.4 0.6 0.6 0.6 0.6 0.6 0.4 0.6 0.4 0.4 0.6\n",
      " 0.4 0.6 0.4 0.6 0.6 0.6 0.6 0.4 0.6 0.6 0.6 0.6 0.6 0.6]\n"
     ]
    }
   ],
   "source": [
    "# Show first 50\n",
    "print(biasedcoin.pmf(btosses)[:50])"
   ]
  },
  {
   "cell_type": "markdown",
   "metadata": {},
   "source": [
    "We can find the *likelihood* of all these independent samples by multiplying\n",
    "\n",
    "$p(D|\\mu) = \\prod_{n=1}^{N} p(x_n|\\mu)$\n",
    "\n",
    "And taking the log to give the log likelihood, which is nicer numerically:\n",
    "\n",
    "$\\log(p(D|\\mu)) = \\sum_{n=1}^{N} \\log(p(x_n|\\mu))$"
   ]
  },
  {
   "cell_type": "code",
   "execution_count": 7,
   "metadata": {},
   "outputs": [],
   "source": [
    "# Add likelihood and loglikelihood to our coin class\n",
    "Coin.likelihood = lambda self, data: product(self.pmf(data))\n",
    "Coin.loglikelihood = lambda self, data: sum(log(self.pmf(data)))"
   ]
  },
  {
   "cell_type": "code",
   "execution_count": 8,
   "metadata": {},
   "outputs": [
    {
     "name": "stdout",
     "output_type": "stream",
     "text": [
      "3.0346453801326247e-294\n",
      "-675.8499227660134\n"
     ]
    }
   ],
   "source": [
    "print(biasedcoin.likelihood(btosses))\n",
    "print(biasedcoin.loglikelihood(btosses))"
   ]
  },
  {
   "cell_type": "markdown",
   "metadata": {},
   "source": [
    "Now, in order to estimate $\\mu$ from our samples we want to maximise the log likelihood -- or minimise the negative log likelihood. "
   ]
  },
  {
   "cell_type": "code",
   "execution_count": 9,
   "metadata": {},
   "outputs": [
    {
     "data": {
      "text/plain": [
       "<matplotlib.legend.Legend at 0x112b9d7b8>"
      ]
     },
     "execution_count": 9,
     "metadata": {},
     "output_type": "execute_result"
    },
    {
     "data": {
      "image/png": "[encoded data removed]",
      "text/plain": [
       "<Figure size 432x288 with 1 Axes>"
      ]
     },
     "metadata": {
      "needs_background": "light"
     },
     "output_type": "display_data"
    }
   ],
   "source": [
    "mus = arange(0.01,1,0.01)\n",
    "ll = zeros(mus.shape)\n",
    "\n",
    "for i,m in enumerate(mus):\n",
    "    # \"create\" a coin for each mu and see how likely the tosses would be\n",
    "    ll[i] = -Coin(m).loglikelihood(ftosses)\n",
    "plot(mus, ll, label=\"Fair Coin\")\n",
    "\n",
    "for i,m in enumerate(mus):\n",
    "    ll[i] = -Coin(m).loglikelihood(btosses)\n",
    "plot(mus, ll, label=\"Biased Coin\")\n",
    "    \n",
    "xlabel(\"$\\mu$\", size=22)\n",
    "ylabel(\"negative log likelihood\")\n",
    "legend()"
   ]
  },
  {
   "cell_type": "markdown",
   "metadata": {},
   "source": [
    "From the graph it looks like the minimum $\\mu$ is close to the true one of the coin. And differentiating shows the maximum likelihood estimator is\n",
    "\n",
    "$\\mu_{ML} = \\frac{1}{N} \\sum_{n=1}^{N}x_n$\n",
    "\n",
    "i.e. the sample mean (which you probably knew already)"
   ]
  },
  {
   "cell_type": "code",
   "execution_count": 10,
   "metadata": {},
   "outputs": [
    {
     "data": {
      "text/latex": [
       "Fair Coin: $\\mu_{ML} = 0.49$"
      ],
      "text/plain": [
       "<IPython.core.display.Latex object>"
      ]
     },
     "metadata": {},
     "output_type": "display_data"
    },
    {
     "data": {
      "text/latex": [
       "Biased Coin: $\\mu_{ML} = 0.593$"
      ],
      "text/plain": [
       "<IPython.core.display.Latex object>"
      ]
     },
     "metadata": {},
     "output_type": "display_data"
    }
   ],
   "source": [
    "muf = sum(ftosses)/float(nsamples)\n",
    "mub = sum(btosses)/float(nsamples)\n",
    "\n",
    "latex(\"Fair Coin: $\\mu_{ML} = %s$\" % muf)\n",
    "latex(\"Biased Coin: $\\mu_{ML} = %s$\" % mub)"
   ]
  },
  {
   "cell_type": "markdown",
   "metadata": {},
   "source": [
    "Now what if we want to estimate the *number* of heads? Call it $k$.\n",
    "\n",
    "For example, if we toss our biased coin 5 times, the probability of getting 3 heads *then* 2 tails is:\n",
    "\n",
    "$p(x_1=1)p(x_2=1)p(x_3=1)p(x_4=0)p(x_5=0) = 0.6 \\times 0.6 \\times 0.6 \\times 0.4 \\times 0.4$\n",
    "\n",
    "or $\\mu^k(1-\\mu)^{N-k}$\n",
    "\n",
    "But this is just one way to get 3 heads, there are many other sequences of 5 trials that would give us 3 heads. How many exactly? This is given by the [Binomial coefficient](https://en.wikipedia.org/wiki/Binomial_coefficient):"
   ]
  },
  {
   "cell_type": "code",
   "execution_count": 11,
   "metadata": {},
   "outputs": [],
   "source": [
    "@vectorize\n",
    "def C(N,k):\n",
    "    return math.factorial(N)//(math.factorial(N-k)*math.factorial(k))"
   ]
  },
  {
   "cell_type": "code",
   "execution_count": 12,
   "metadata": {},
   "outputs": [
    {
     "name": "stdout",
     "output_type": "stream",
     "text": [
      "There is 1 way of getting 0 heads\n",
      "There are 5 ways of getting 1 head\n",
      "There are 10 ways of getting 2 heads\n",
      "There are 10 ways of getting 3 heads\n",
      "There are 5 ways of getting 4 heads\n",
      "There is 1 way of getting 5 heads\n"
     ]
    }
   ],
   "source": [
    "Ntoss = 5\n",
    "for k in range(Ntoss+1):\n",
    "    c =  C(Ntoss,k)\n",
    "    s = lambda n: \"s\" if (n-1) else \"\"\n",
    "    print(\"There\", \"are\" if (c-1) else \"is\", c, \"way\" + s(c), \"of getting\", k, \"head\" + s(k))"
   ]
  },
  {
   "cell_type": "markdown",
   "metadata": {},
   "source": [
    "This leads us to the Binomial distribution\n",
    "\n",
    "$Bin(k|N,\\mu) = C(N,k)\\times\\mu^k(1-\\mu)^{N-k}$\n",
    "\n",
    "With mean $N\\mu$\n",
    "\n",
    "We can sample a Binomial distribution by tossing a coin N times and seeing how many heads we get. And if we repeat this step many times we can draw a histogram of how many times we get each number of heads."
   ]
  },
  {
   "cell_type": "code",
   "execution_count": 13,
   "metadata": {},
   "outputs": [
    {
     "data": {
      "text/plain": [
       "Text(0.5, 0, 'k (number of heads)')"
      ]
     },
     "execution_count": 13,
     "metadata": {},
     "output_type": "execute_result"
    },
    {
     "data": {
      "image/png": "[encoded data removed]",
      "text/plain": [
       "<Figure size 432x288 with 1 Axes>"
      ]
     },
     "metadata": {
      "needs_background": "light"
     },
     "output_type": "display_data"
    }
   ],
   "source": [
    "results = []\n",
    "\n",
    "N_binom = 5\n",
    "mu_binom = 0.6\n",
    "Ntrials = 1000\n",
    "\n",
    "for x in range(Ntrials):\n",
    "    nheads = sum(Coin(mu_binom).toss(N_binom))\n",
    "    results.append(nheads)\n",
    "      \n",
    "hist(results, bins=range(N_binom+2), rwidth=.8, align='left')\n",
    "\n",
    "xlabel(\"k (number of heads)\")"
   ]
  },
  {
   "cell_type": "markdown",
   "metadata": {},
   "source": [
    "Compare with the actual distribution:"
   ]
  },
  {
   "cell_type": "code",
   "execution_count": 14,
   "metadata": {},
   "outputs": [
    {
     "data": {
      "text/plain": [
       "Text(0.5, 0, 'k')"
      ]
     },
     "execution_count": 14,
     "metadata": {},
     "output_type": "execute_result"
    },
    {
     "data": {
      "image/png": "[encoded data removed]",
      "text/plain": [
       "<Figure size 432x288 with 1 Axes>"
      ]
     },
     "metadata": {
      "needs_background": "light"
     },
     "output_type": "display_data"
    }
   ],
   "source": [
    "ks = arange(0,N_binom+1,1)\n",
    "\n",
    "def binomialpmf(k,N,mu):\n",
    "    return C(N, k) * mu**k * (1-mu)**(N-k)\n",
    "\n",
    "bar(ks, binomialpmf(ks, N_binom, mu_binom), align='center')\n",
    "xlabel(\"k\")"
   ]
  }
 ],
 "metadata": {
  "kernelspec": {
   "display_name": "Python 3",
   "language": "python",
   "name": "python3"
  },
  "language_info": {
   "codemirror_mode": {
    "name": "ipython",
    "version": 3
   },
   "file_extension": ".py",
   "mimetype": "text/x-python",
   "name": "python",
   "nbconvert_exporter": "python",
   "pygments_lexer": "ipython3",
   "version": "3.7.2"
  }
 },
 "nbformat": 4,
 "nbformat_minor": 1
}
