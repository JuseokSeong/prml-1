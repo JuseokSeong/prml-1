{
 "cells": [
  {
   "cell_type": "code",
   "execution_count": 1,
   "metadata": {},
   "outputs": [
    {
     "name": "stdout",
     "output_type": "stream",
     "text": [
      "Populating the interactive namespace from numpy and matplotlib\n"
     ]
    }
   ],
   "source": [
    "%pylab inline\n",
    "from IPython.display import display, Math, Latex\n",
    "maths = lambda s: display(Math(s))\n",
    "latex = lambda s: display(Latex(s))"
   ]
  },
  {
   "cell_type": "markdown",
   "metadata": {},
   "source": [
    "A binary variable is good for representing something like a coin toss, but normally we want to have more states, such as the number rolled on a die. One way of representing such a variable is 1-of-K  representation, where we have a vector $\\mathbf{x}$ of size $K$ where state $k$ is represented by the $k^{th}$ element being 1 and all other elements being 0."
   ]
  },
  {
   "cell_type": "code",
   "execution_count": 2,
   "metadata": {},
   "outputs": [],
   "source": [
    "def one_of(K, k):\n",
    "    # If k is an array, have each output row\n",
    "    # represent an element of k\n",
    "    k = array(k).flatten()\n",
    "    x = zeros((k.shape[0],K))\n",
    "    x[range(len(k)),k] = 1\n",
    "    return x"
   ]
  },
  {
   "cell_type": "code",
   "execution_count": 3,
   "metadata": {},
   "outputs": [
    {
     "data": {
      "text/plain": [
       "array([[0., 0., 0., 0., 0., 1., 0., 0., 0., 0.]])"
      ]
     },
     "execution_count": 3,
     "metadata": {},
     "output_type": "execute_result"
    }
   ],
   "source": [
    "# For example\n",
    "one_of(10,5)"
   ]
  },
  {
   "cell_type": "markdown",
   "metadata": {},
   "source": [
    "For example we can create a die"
   ]
  },
  {
   "cell_type": "code",
   "execution_count": 4,
   "metadata": {},
   "outputs": [],
   "source": [
    "class Die(object):\n",
    "    def __init__(self, mu=None, sides=6):\n",
    "        if mu is None:\n",
    "            mu = [1] * sides\n",
    "        # Normalise to be prob. dist.\n",
    "        self.mu = array(mu, float)/sum(mu)\n",
    "        self.sides = sides\n",
    "        \n",
    "    def roll(self, n):\n",
    "        # sample using uniform rand num to index y axis of cdf\n",
    "        rolls = argmax(cumsum(self.mu)[:,newaxis] > random.random(n),0)\n",
    "        return one_of(self.sides, rolls)"
   ]
  },
  {
   "cell_type": "markdown",
   "metadata": {},
   "source": [
    "And roll some numbers on a fair die"
   ]
  },
  {
   "cell_type": "code",
   "execution_count": 5,
   "metadata": {},
   "outputs": [
    {
     "name": "stdout",
     "output_type": "stream",
     "text": [
      "[[0. 1. 0. 0. 0. 0.]\n",
      " [0. 0. 1. 0. 0. 0.]\n",
      " [0. 0. 0. 0. 0. 1.]\n",
      " [0. 0. 0. 1. 0. 0.]\n",
      " [0. 0. 0. 1. 0. 0.]]\n",
      "As (0-based) numbers: [1 2 5 3 3]\n"
     ]
    }
   ],
   "source": [
    "fairdie = Die()\n",
    "fairrolls = fairdie.roll(5)\n",
    "\n",
    "print(fairrolls)\n",
    "print(\"As (0-based) numbers:\", argmax(fairrolls, axis=1))"
   ]
  },
  {
   "cell_type": "markdown",
   "metadata": {},
   "source": [
    "If we have a loaded die, we can define a vector $\\boldsymbol{\\mu}$ of the probability for rolling each number"
   ]
  },
  {
   "cell_type": "code",
   "execution_count": 6,
   "metadata": {},
   "outputs": [
    {
     "name": "stdout",
     "output_type": "stream",
     "text": [
      "[0.28571429 0.14285714 0.14285714 0.14285714 0.14285714 0.14285714]\n"
     ]
    },
    {
     "data": {
      "text/latex": [
       "Probabilities, so normalised s.t. $\\sum_{k=1}^{K} \\mu_k = 1.0$"
      ],
      "text/plain": [
       "<IPython.core.display.Latex object>"
      ]
     },
     "metadata": {},
     "output_type": "display_data"
    }
   ],
   "source": [
    "# Say rolling a 1 is twice as likely as the other numbers\n",
    "nums = [2, 1, 1, 1, 1, 1]\n",
    "# normalise\n",
    "mu = array(nums, float)/sum(nums)\n",
    "print(mu)\n",
    "latex(r\"Probabilities, so normalised s.t. $\\sum_{k=1}^{K} \\mu_k = %s$\" % round(sum(mu)))"
   ]
  },
  {
   "cell_type": "code",
   "execution_count": 7,
   "metadata": {},
   "outputs": [
    {
     "data": {
      "text/plain": [
       "(array([302., 150., 143., 127., 143., 135.]),\n",
       " array([0, 1, 2, 3, 4, 5, 6]),\n",
       " <a list of 6 Patch objects>)"
      ]
     },
     "execution_count": 7,
     "metadata": {},
     "output_type": "execute_result"
    },
    {
     "data": {
      "image/png": "[encoded data removed]",
      "text/plain": [
       "<Figure size 432x288 with 1 Axes>"
      ]
     },
     "metadata": {
      "needs_background": "light"
     },
     "output_type": "display_data"
    }
   ],
   "source": [
    "# roll some numbers on our loaded die\n",
    "loadeddie = Die(mu)\n",
    "loadedrolls = loadeddie.roll(1000)\n",
    "\n",
    "hist(argmax(loadedrolls,1), bins=range(loadeddie.sides+1))"
   ]
  },
  {
   "cell_type": "markdown",
   "metadata": {},
   "source": [
    "Our probability distribution is just given by $\\mu_k$ for each $k$, i.e. $p(k|\\boldsymbol{\\mu}) = \\mu_k$ (a generalisation of the Bernoulli distribution, called the Categorical distribution)\n",
    "\n",
    "But we want to use one-of-K to represent $k$ by vector $\\mathbf{x}$, so we can write it as\n",
    "\n",
    "$p(\\mathbf{x}|\\boldsymbol{\\mu}) = \\prod_{k=1}^K \\mu_k^{x_k}$ \n",
    "\n",
    "This works because $\\mu_k^{x_k}$ will be 1 for every element except that where $x_n$ = 1, so the product will give the $\\mu_k$ for the state represented by $\\mathbf{x}$. It is just a clever way of \"picking out\" the correct $\\mu_k$."
   ]
  },
  {
   "cell_type": "code",
   "execution_count": 8,
   "metadata": {},
   "outputs": [
    {
     "name": "stdout",
     "output_type": "stream",
     "text": [
      "[1.         0.14285714 1.         1.         1.         1.        ]\n"
     ]
    }
   ],
   "source": [
    "print(mu**[0,1,0,0,0,0])\n",
    "\n",
    "# only kth element is non-1"
   ]
  },
  {
   "cell_type": "code",
   "execution_count": 9,
   "metadata": {},
   "outputs": [],
   "source": [
    "# Define our probability mass function\n",
    "Die.pmf = lambda self, x: prod(self.mu**x, axis=-1)"
   ]
  },
  {
   "cell_type": "markdown",
   "metadata": {},
   "source": [
    "Some examples with our weighted die"
   ]
  },
  {
   "cell_type": "code",
   "execution_count": 10,
   "metadata": {},
   "outputs": [
    {
     "data": {
      "text/latex": [
       "$\\displaystyle p(\\mathbf{x}=[1, 0, 0, 0, 0, 0]|\\boldsymbol{\\mu}) = 0.28571428571428575$"
      ],
      "text/plain": [
       "<IPython.core.display.Math object>"
      ]
     },
     "metadata": {},
     "output_type": "display_data"
    },
    {
     "data": {
      "text/latex": [
       "$\\displaystyle p(\\mathbf{x}=[0, 1, 0, 0, 0, 0]|\\boldsymbol{\\mu}) = 0.14285714285714288$"
      ],
      "text/plain": [
       "<IPython.core.display.Math object>"
      ]
     },
     "metadata": {},
     "output_type": "display_data"
    }
   ],
   "source": [
    "x1 = [1,0,0,0,0,0] # \"roll a one\"\n",
    "x2 = [0,1,0,0,0,0] # \"roll a two\"\n",
    "\n",
    "p1 = loadeddie.pmf(x1)\n",
    "p2 = loadeddie.pmf(x2)\n",
    "\n",
    "maths(r\"p(\\mathbf{x}=%s|\\boldsymbol{\\mu}) = %s\" % (x1,p1))\n",
    "maths(r\"p(\\mathbf{x}=%s|\\boldsymbol{\\mu}) = %s\" % (x2,p2))"
   ]
  },
  {
   "cell_type": "markdown",
   "metadata": {},
   "source": [
    "Now consider the likelihood over N observations -- we simply need to multiply the previous result over all the samples\n",
    "\n",
    "$p(D|\\mu) = \\prod_{n=1}^{N}p(\\boldsymbol{x}_n|\\boldsymbol{\\mu})=$\n",
    "\n",
    "$= \\prod_{n=1}^{N}\\prod_{k=1}^K \\mu_k^{x_k}$ "
   ]
  },
  {
   "cell_type": "code",
   "execution_count": 11,
   "metadata": {},
   "outputs": [],
   "source": [
    "Die.likelihood = lambda self, data: product(self.pmf(data))\n",
    "Die.loglikelihood = lambda self, data: sum(log(self.pmf(data)))"
   ]
  },
  {
   "cell_type": "markdown",
   "metadata": {},
   "source": [
    "Now given some observed dice rolls, we can plot how likely it is that the number one is weighted a certain way"
   ]
  },
  {
   "cell_type": "code",
   "execution_count": 12,
   "metadata": {},
   "outputs": [
    {
     "data": {
      "text/plain": [
       "Text(0.5, 0, '$\\\\mu_1$')"
      ]
     },
     "execution_count": 12,
     "metadata": {},
     "output_type": "execute_result"
    },
    {
     "data": {
      "image/png": "[encoded data removed]",
      "text/plain": [
       "<Figure size 432x288 with 1 Axes>"
      ]
     },
     "metadata": {
      "needs_background": "light"
     },
     "output_type": "display_data"
    }
   ],
   "source": [
    "def plot_likelihood_1(r, *a, **kw):\n",
    "    prob_roll_1 = linspace(0,1,100)\n",
    "    ps = []\n",
    "\n",
    "    for p1 in prob_roll_1:\n",
    "        # Vary the probability of rolling a 1, and \n",
    "        # divide the remaining probability equally\n",
    "        # among the other 5 numbers\n",
    "        mus = (ones(6) * (1-p1))/5.\n",
    "        mus[0] = p1\n",
    "        ps.append(Die(mus).likelihood(r))\n",
    "    \n",
    "    plot(prob_roll_1, ps, *a, **kw)\n",
    "\n",
    "# Plot some arbitrary data (where \"0\" means rolling a one)\n",
    "plot_likelihood_1(one_of(6,[0,2,1,5,3,1,1]), 'red')\n",
    "plot_likelihood_1(one_of(6,[1,0,1,2,0,1,0,0,0,0]), 'blue')\n",
    "    \n",
    "xlabel(r\"$\\mu_1$\", size=22)"
   ]
  },
  {
   "cell_type": "code",
   "execution_count": 13,
   "metadata": {},
   "outputs": [
    {
     "data": {
      "text/plain": [
       "Text(0, 0.5, 'Likelihood')"
      ]
     },
     "execution_count": 13,
     "metadata": {},
     "output_type": "execute_result"
    },
    {
     "data": {
      "image/png": "[encoded data removed]",
      "text/plain": [
       "<Figure size 432x288 with 1 Axes>"
      ]
     },
     "metadata": {
      "needs_background": "light"
     },
     "output_type": "display_data"
    }
   ],
   "source": [
    "# Using some samples from our loaded die\n",
    "plot_likelihood_1(loadeddie.roll(100))\n",
    "xlabel(r\"$\\mu_1$\")\n",
    "ylabel('Likelihood')"
   ]
  },
  {
   "cell_type": "markdown",
   "metadata": {},
   "source": [
    "We can also write the likelihood as\n",
    "\n",
    "$p(D|\\boldsymbol{\\mu}) = \\prod_{k=1}^K \\mu_k^{m_k}$\n",
    "\n",
    "Where $m_k$ is the number of data points where $x_k = 1$"
   ]
  },
  {
   "cell_type": "markdown",
   "metadata": {},
   "source": [
    "Now to find the maximum likelihood solution for $\\boldsymbol{\\mu}$, we maximise $\\log p(D|\\boldsymbol{\\mu})$ with the constraint that $\\sum_{k=1}^{K}\\mu_k = 1$, which we can enforce using a Lagrange multiplier $\\lambda$."
   ]
  },
  {
   "cell_type": "markdown",
   "metadata": {},
   "source": [
    "$\\frac{\\partial}{\\partial \\mu_k}[\\sum_{j=1}^{K}m_j \\log \\mu_j + \\lambda(\\sum_{j=1}^{K}\\mu_j - 1)] = 0$\n",
    "\n",
    "$\\frac{m_k}{\\mu_k} + \\lambda(1 - 1) = 0$ (The partial derivative of terms in the summations where $j \\neq k$ vanish)\n",
    "\n",
    "$\\mu_k = -\\frac{m_k}{\\lambda}$\n",
    "\n",
    "Sub into $\\sum_{k=1}^{K}\\mu_k = 1$\n",
    "\n",
    "$-\\sum_{k=1}^{K} m_k = \\lambda$\n",
    "\n",
    "so $\\lambda = -N$ (because the summation over the number of data points in each state gives the total number of data points)\n",
    "\n",
    "And $\\mu_k^{ML} = \\frac{m_k}{N}$ (which is just the fraction of the data points where $x_k=1$)"
   ]
  },
  {
   "cell_type": "markdown",
   "metadata": {},
   "source": [
    "Now consider the distribution over the $m_k$s, which would give the number of ones, twos, threes etc. rolled, the same way the Binomial gave us the number of heads. It is called the Multinomial:\n",
    "\n",
    "$\\operatorname{Mult}(m_1,m_2,...,m_K|\\boldsymbol{\\mu},N) = \\binom{N}{m_1 m_2 ... m_K} \\prod_{k=1}^K \\mu_k^{m_k}$    "
   ]
  },
  {
   "cell_type": "code",
   "execution_count": 14,
   "metadata": {},
   "outputs": [],
   "source": [
    "from scipy.special import factorial\n",
    "\n",
    "def multinomialpmf(ms, mu):\n",
    "    # ms: the number of observations of each state\n",
    "    ms = array(ms, float)\n",
    "    # We normalise our weights mu, so the input can be unnormalised\n",
    "    mu = array(mu, float)/sum(mu)\n",
    "    # The number of observations can be inferred from ms\n",
    "    N = sum(ms)\n",
    "    norm = factorial(N)/prod(factorial(ms))\n",
    "    return norm * prod(mu**ms)"
   ]
  },
  {
   "cell_type": "markdown",
   "metadata": {},
   "source": [
    "We cannot really plot the multinomial directly, because of the many dimensions of $\\boldsymbol{m}$.\n",
    "\n",
    "But we can show the distribution of the number of ones rolled (constraining the other numbers), and with various weighted dice."
   ]
  },
  {
   "cell_type": "code",
   "execution_count": 15,
   "metadata": {},
   "outputs": [
    {
     "data": {
      "text/plain": [
       "Text(0.5, 1.0, 'Probability of rolling $m_1$ ones')"
      ]
     },
     "execution_count": 15,
     "metadata": {},
     "output_type": "execute_result"
    },
    {
     "data": {
      "image/png": "[encoded data removed]",
      "text/plain": [
       "<Figure size 432x288 with 1 Axes>"
      ]
     },
     "metadata": {
      "needs_background": "light"
     },
     "output_type": "display_data"
    }
   ],
   "source": [
    "n = 15 # max number of ones\n",
    "m1s = arange(n+1)\n",
    "N = 35\n",
    "\n",
    "for w1 in [1,2,3]:\n",
    "    probs = []\n",
    "    for m1 in m1s:\n",
    "        # constrain so always sums to N\n",
    "        ms = [m1,5,5,5,5,n-m1]\n",
    "        assert sum(ms) == N\n",
    "        probs.append(multinomialpmf(ms,[w1,1,1,1,1,1]))\n",
    "    plot(m1s, probs, 'o--', label='\"one\" of weight %s' % w1)\n",
    "    \n",
    "xlabel(\"$m_1$ (the number of ones rolled)\", size=15)\n",
    "legend(loc='upper left')\n",
    "title(\"Probability of rolling $m_1$ ones\")"
   ]
  },
  {
   "cell_type": "markdown",
   "metadata": {},
   "source": [
    "And we can plot the distribution over a magical 3-sided die in 2D with a colourmap (only showing two variables on the axes, since the third can be inferred as they sum to N)"
   ]
  },
  {
   "cell_type": "code",
   "execution_count": 16,
   "metadata": {},
   "outputs": [
    {
     "data": {
      "text/plain": [
       "Text(0.5, 1.0, 'pmf of \"three sided\" die with weights [2,1,1]')"
      ]
     },
     "execution_count": 16,
     "metadata": {},
     "output_type": "execute_result"
    },
    {
     "data": {
      "image/png": "[encoded data removed]",
      "text/plain": [
       "<Figure size 432x288 with 2 Axes>"
      ]
     },
     "metadata": {
      "needs_background": "light"
     },
     "output_type": "display_data"
    }
   ],
   "source": [
    "N = 50\n",
    "ms = arange(N+1)\n",
    "\n",
    "# default to NaN (so white background for region where sum>N)\n",
    "o = ones((N+1,N+1)) * NaN\n",
    "\n",
    "for m1 in ms:\n",
    "    for m2 in arange((N-m1)+1):\n",
    "        m3 = N - m1 - m2\n",
    "        assert (m1 + m2 + m3) == N\n",
    "        assert (m3 >= 0)\n",
    "        o[m2,m1] = multinomialpmf([m1,m2,m3],[2,1,1])\n",
    "                \n",
    "jet()\n",
    "imshow(o, origin='lower')\n",
    "xlabel(\"number of ones\")\n",
    "ylabel(\"number of twos\")\n",
    "colorbar()\n",
    "title('pmf of \"three sided\" die with weights [2,1,1]')"
   ]
  },
  {
   "cell_type": "code",
   "execution_count": null,
   "metadata": {},
   "outputs": [],
   "source": []
  },
  {
   "cell_type": "code",
   "execution_count": null,
   "metadata": {},
   "outputs": [],
   "source": []
  }
 ],
 "metadata": {
  "kernelspec": {
   "display_name": "Python 3",
   "language": "python",
   "name": "python3"
  },
  "language_info": {
   "codemirror_mode": {
    "name": "ipython",
    "version": 3
   },
   "file_extension": ".py",
   "mimetype": "text/x-python",
   "name": "python",
   "nbconvert_exporter": "python",
   "pygments_lexer": "ipython3",
   "version": "3.7.2"
  }
 },
 "nbformat": 4,
 "nbformat_minor": 1
}
