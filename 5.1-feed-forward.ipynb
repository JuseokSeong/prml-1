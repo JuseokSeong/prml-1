{
 "cells": [
  {
   "cell_type": "code",
   "execution_count": 11,
   "metadata": {},
   "outputs": [
    {
     "name": "stdout",
     "output_type": "stream",
     "text": [
      "Populating the interactive namespace from numpy and matplotlib\n"
     ]
    }
   ],
   "source": [
    "%pylab inline\n",
    "import pydot\n",
    "from IPython.display import Image, display, SVG\n",
    "import re"
   ]
  },
  {
   "cell_type": "markdown",
   "metadata": {},
   "source": [
    "A neural network, or \"multilayer perceptron\", is made up of units computing a nonlinear transformation of a weighted sum of their inputs. So the output of a unit looks something like:\n",
    "\n",
    "\\begin{equation}\n",
    "o(x_1,x_2,...x_n) = \\sigma(w_0 + w_1 x_1 + w_2 x_2 + ... w_n x_n)\n",
    "\\end{equation}\n",
    "\n",
    "$w_0$ represents a bias that does not depend on the input.\n",
    "\n",
    "Here the nonlinear function $\\sigma$ is the logistic sigmoid function, which as we shall see, is useful because it is a continuous function of its input and is differentiable. It \"squashes\" its input domain into a range between 0 and 1. (The tanh function may also be used, which has a range between -1 and 1). \n",
    "\n",
    "The definition and plot of the sigmoid function is:"
   ]
  },
  {
   "cell_type": "code",
   "execution_count": 12,
   "metadata": {},
   "outputs": [
    {
     "data": {
      "text/plain": [
       "<matplotlib.legend.Legend at 0x1160378d0>"
      ]
     },
     "execution_count": 12,
     "metadata": {},
     "output_type": "execute_result"
    },
    {
     "data": {
      "image/png": "[encoded data removed]",
      "text/plain": [
       "<Figure size 432x288 with 1 Axes>"
      ]
     },
     "metadata": {
      "needs_background": "light"
     },
     "output_type": "display_data"
    }
   ],
   "source": [
    "def sigmoid(x):\n",
    "    return 1./(1 + exp(-x))\n",
    "\n",
    "xs = linspace(-6, 6, 100)\n",
    "plot(xs, sigmoid(xs), label='sigmoid')\n",
    "plot(xs, tanh(xs), label='tanh')\n",
    "\n",
    "legend(loc=0)"
   ]
  },
  {
   "cell_type": "markdown",
   "metadata": {},
   "source": [
    "These units are grouped into layers, each having multiple units, and with the outputs of the units of one layer feeding into the units of the next layer.\n",
    "\n",
    "This is easiest to show graphically, so we define a function to create a network diagram:"
   ]
  },
  {
   "cell_type": "code",
   "execution_count": 13,
   "metadata": {},
   "outputs": [],
   "source": [
    "def viewnet(layers, weights=None):\n",
    "    names = ['Input'] + ['Hidden %d' % l for l in range(1,len(layers)-1)] + ['Output']\n",
    "    labels = ['x'] + ['z'] * (len(layers)-2) + ['y']\n",
    "    gr = pydot.Dot(graph_type='graph', rankdir='LR', splines='line', fontname='sans-serif', nodesep=0.5, ranksep=2)\n",
    "    weights = np.array(weights) if weights is not None else None\n",
    "\n",
    "    layernodes = []\n",
    "    \n",
    "    def wbox(s):\n",
    "        return '''<<TABLE BGCOLOR=\"white\" BORDER=\"0\" CELLBORDER=\"0\" CELLSPACING=\"0\">\n",
    "                  <TR><TD><FONT COLOR=\"red\" POINT-SIZE=\"10\">%s</FONT></TD></TR></TABLE>>''' % s\n",
    "\n",
    "    # Create our layers\n",
    "    for l, height in enumerate(layers):\n",
    "        layer = pydot.Cluster(graph_name='Layer%d' % l, label=names[l], margin='20')\n",
    "        \n",
    "        # HSV colour, split the hue among layers\n",
    "        layer.set_bgcolor('%f,.4,1' % (float(l)/len(layers)))\n",
    "        \n",
    "        nodenames = []\n",
    "        \n",
    "        # Create our units\n",
    "        for k in range(height):\n",
    "            name = '%d %s' % (k+1, names[l])\n",
    "            label = labels[l] + str(k+1)\n",
    "            tooltip = ''\n",
    "            xlabel = ''\n",
    "            if l > 0 and weights is not None:\n",
    "                # Show bias on hover\n",
    "                tooltip = 'bias=%+d' % weights[l-1][k,0]\n",
    "                xlabel = wbox('bias %+d' % (weights[l-1][k,0]))\n",
    "                \n",
    "            node = pydot.Node(name, label=label, regular=True, fontname='sans-serif',\n",
    "                              tooltip=tooltip, xlabel=xlabel)\n",
    "            layer.add_node(node)\n",
    "            nodenames.append(name)\n",
    "            \n",
    "        layernodes.append(nodenames)\n",
    "        gr.add_subgraph(layer)\n",
    "    \n",
    "        if l > 0:\n",
    "            # Add edges between previous and this layer\n",
    "            for i1, n1 in enumerate(layernodes[l-1]):\n",
    "                for i2, n2 in enumerate(layernodes[l]):\n",
    "                    # hack to keep the node orders sequential\n",
    "                    # only 'constrain' the edge between middle nodes\n",
    "                    constrain = i1 == floor(len(layernodes[l-1])/2.) and i2 == floor(height/2.)\n",
    "                    tooltip = 'w%d%d' % (i2+1,i1+1)\n",
    "                    wt = ''\n",
    "                    if weights is not None:\n",
    "                        tooltip += '=%d' % weights[l-1][i2,i1+1] # +1 for bias\n",
    "                        wt = '     %d     ' % weights[l-1][i2,i1+1]\n",
    "                    gr.add_edge(pydot.Edge(n1, n2, tooltip=tooltip, dir='forward',\n",
    "                                           constraint=constrain, xlabel=wt))\n",
    "    # remove superfluous tooltips\n",
    "    svg = re.sub('<title>.*</title>', '', gr.create_svg().decode(\"utf-8\") )\n",
    "    return SVG(svg)"
   ]
  },
  {
   "cell_type": "markdown",
   "metadata": {},
   "source": [
    "Now we show a layer with 4 of these sigmoid units, along with an \"input\" layer that represents a 2D sample point. (Not showing the biases)."
   ]
  },
  {
   "cell_type": "code",
   "execution_count": 14,
   "metadata": {},
   "outputs": [
    {
     "data": {
      "image/svg+xml": [
       "<svg height=\"355pt\" viewBox=\"0.00 0.00 288.59 355.00\" width=\"289pt\" xmlns=\"http://www.w3.org/2000/svg\" xmlns:xlink=\"http://www.w3.org/1999/xlink\">\n",
       "<g class=\"graph\" id=\"graph0\" transform=\"scale(1 1) rotate(0) translate(4 351)\">\n",
       "\n",
       "<polygon fill=\"#ffffff\" points=\"-4,4 -4,-351 284.5928,-351 284.5928,4 -4,4\" stroke=\"transparent\"/>\n",
       "<g class=\"cluster\" id=\"clust1\">\n",
       "\n",
       "<polygon fill=\"#ff9999\" points=\"8,-84 8,-263 88.2964,-263 88.2964,-84 8,-84\" stroke=\"#000000\"/>\n",
       "<text fill=\"#000000\" font-family=\"sans-serif\" font-size=\"14.00\" text-anchor=\"middle\" x=\"48.1482\" y=\"-247.8\">Input</text>\n",
       "</g>\n",
       "<g class=\"cluster\" id=\"clust2\">\n",
       "\n",
       "<polygon fill=\"#99ff99\" points=\"192.2964,-8 192.2964,-339 272.5928,-339 272.5928,-8 192.2964,-8\" stroke=\"#000000\"/>\n",
       "<text fill=\"#000000\" font-family=\"sans-serif\" font-size=\"14.00\" text-anchor=\"middle\" x=\"232.4446\" y=\"-323.8\">Hidden 1</text>\n",
       "</g>\n",
       "<!-- 1 Input -->\n",
       "<g class=\"node\" id=\"node1\">\n",
       "\n",
       "<ellipse cx=\"48.1482\" cy=\"-200\" fill=\"none\" rx=\"20.2975\" ry=\"20.2975\" stroke=\"#000000\"/>\n",
       "<text fill=\"#000000\" font-family=\"sans-serif\" font-size=\"14.00\" text-anchor=\"middle\" x=\"48.1482\" y=\"-196.3\">x1</text>\n",
       "</g>\n",
       "<!-- 1 Hidden 1 -->\n",
       "<g class=\"node\" id=\"node3\">\n",
       "\n",
       "<ellipse cx=\"232.4446\" cy=\"-276\" fill=\"none\" rx=\"20.2975\" ry=\"20.2975\" stroke=\"#000000\"/>\n",
       "<text fill=\"#000000\" font-family=\"sans-serif\" font-size=\"14.00\" text-anchor=\"middle\" x=\"232.4446\" y=\"-272.3\">z1</text>\n",
       "</g>\n",
       "<!-- 1 Input&#45;&#45;1 Hidden 1 -->\n",
       "<g class=\"edge\" id=\"edge1\">\n",
       "\n",
       "<g id=\"a_edge1\"><a xlink:title=\"w11\">\n",
       "<path d=\"M66.8338,-207.7055C99.2593,-221.0771 166.1232,-248.6504 204.2283,-264.3642\" fill=\"none\" stroke=\"#000000\"/>\n",
       "<polygon fill=\"#000000\" points=\"203.1305,-267.6973 213.7096,-268.2741 205.7992,-261.226 203.1305,-267.6973\" stroke=\"#000000\"/>\n",
       "</a>\n",
       "</g>\n",
       "</g>\n",
       "<!-- 2 Hidden 1 -->\n",
       "<g class=\"node\" id=\"node4\">\n",
       "\n",
       "<ellipse cx=\"232.4446\" cy=\"-200\" fill=\"none\" rx=\"20.2975\" ry=\"20.2975\" stroke=\"#000000\"/>\n",
       "<text fill=\"#000000\" font-family=\"sans-serif\" font-size=\"14.00\" text-anchor=\"middle\" x=\"232.4446\" y=\"-196.3\">z2</text>\n",
       "</g>\n",
       "<!-- 1 Input&#45;&#45;2 Hidden 1 -->\n",
       "<g class=\"edge\" id=\"edge2\">\n",
       "\n",
       "<g id=\"a_edge2\"><a xlink:title=\"w21\">\n",
       "<path d=\"M68.5753,-200C100.9034,-200 164.0528,-200 201.819,-200\" fill=\"none\" stroke=\"#000000\"/>\n",
       "<polygon fill=\"#000000\" points=\"202.207,-203.5001 212.2069,-200 202.2069,-196.5001 202.207,-203.5001\" stroke=\"#000000\"/>\n",
       "</a>\n",
       "</g>\n",
       "</g>\n",
       "<!-- 3 Hidden 1 -->\n",
       "<g class=\"node\" id=\"node5\">\n",
       "\n",
       "<ellipse cx=\"232.4446\" cy=\"-124\" fill=\"none\" rx=\"20.2975\" ry=\"20.2975\" stroke=\"#000000\"/>\n",
       "<text fill=\"#000000\" font-family=\"sans-serif\" font-size=\"14.00\" text-anchor=\"middle\" x=\"232.4446\" y=\"-120.3\">z3</text>\n",
       "</g>\n",
       "<!-- 1 Input&#45;&#45;3 Hidden 1 -->\n",
       "<g class=\"edge\" id=\"edge3\">\n",
       "\n",
       "<g id=\"a_edge3\"><a xlink:title=\"w31\">\n",
       "<path d=\"M66.8338,-192.2945C99.2593,-178.9229 166.1232,-151.3496 204.2283,-135.6358\" fill=\"none\" stroke=\"#000000\"/>\n",
       "<polygon fill=\"#000000\" points=\"205.7992,-138.774 213.7096,-131.7259 203.1305,-132.3027 205.7992,-138.774\" stroke=\"#000000\"/>\n",
       "</a>\n",
       "</g>\n",
       "</g>\n",
       "<!-- 4 Hidden 1 -->\n",
       "<g class=\"node\" id=\"node6\">\n",
       "\n",
       "<ellipse cx=\"232.4446\" cy=\"-48\" fill=\"none\" rx=\"20.2975\" ry=\"20.2975\" stroke=\"#000000\"/>\n",
       "<text fill=\"#000000\" font-family=\"sans-serif\" font-size=\"14.00\" text-anchor=\"middle\" x=\"232.4446\" y=\"-44.3\">z4</text>\n",
       "</g>\n",
       "<!-- 1 Input&#45;&#45;4 Hidden 1 -->\n",
       "<g class=\"edge\" id=\"edge4\">\n",
       "\n",
       "<g id=\"a_edge4\"><a xlink:title=\"w41\">\n",
       "<path d=\"M63.8612,-187.0406C96.2318,-160.3427 170.5139,-99.0779 208.7486,-67.5435\" fill=\"none\" stroke=\"#000000\"/>\n",
       "<polygon fill=\"#000000\" points=\"211.2837,-69.9895 216.7714,-60.9266 206.8298,-64.5893 211.2837,-69.9895\" stroke=\"#000000\"/>\n",
       "</a>\n",
       "</g>\n",
       "</g>\n",
       "<!-- 2 Input -->\n",
       "<g class=\"node\" id=\"node2\">\n",
       "\n",
       "<ellipse cx=\"48.1482\" cy=\"-124\" fill=\"none\" rx=\"20.2975\" ry=\"20.2975\" stroke=\"#000000\"/>\n",
       "<text fill=\"#000000\" font-family=\"sans-serif\" font-size=\"14.00\" text-anchor=\"middle\" x=\"48.1482\" y=\"-120.3\">x2</text>\n",
       "</g>\n",
       "<!-- 2 Input&#45;&#45;1 Hidden 1 -->\n",
       "<g class=\"edge\" id=\"edge5\">\n",
       "\n",
       "<g id=\"a_edge5\"><a xlink:title=\"w12\">\n",
       "<path d=\"M63.8612,-136.9594C96.2318,-163.6573 170.5139,-224.9221 208.7486,-256.4565\" fill=\"none\" stroke=\"#000000\"/>\n",
       "<polygon fill=\"#000000\" points=\"206.8298,-259.4107 216.7714,-263.0734 211.2837,-254.0105 206.8298,-259.4107\" stroke=\"#000000\"/>\n",
       "</a>\n",
       "</g>\n",
       "</g>\n",
       "<!-- 2 Input&#45;&#45;2 Hidden 1 -->\n",
       "<g class=\"edge\" id=\"edge6\">\n",
       "\n",
       "<g id=\"a_edge6\"><a xlink:title=\"w22\">\n",
       "<path d=\"M66.8338,-131.7055C99.2593,-145.0771 166.1232,-172.6504 204.2283,-188.3642\" fill=\"none\" stroke=\"#000000\"/>\n",
       "<polygon fill=\"#000000\" points=\"203.1305,-191.6973 213.7096,-192.2741 205.7992,-185.226 203.1305,-191.6973\" stroke=\"#000000\"/>\n",
       "</a>\n",
       "</g>\n",
       "</g>\n",
       "<!-- 2 Input&#45;&#45;3 Hidden 1 -->\n",
       "<g class=\"edge\" id=\"edge7\">\n",
       "\n",
       "<g id=\"a_edge7\"><a xlink:title=\"w32\">\n",
       "<path d=\"M68.5753,-124C100.9034,-124 164.0528,-124 201.819,-124\" fill=\"none\" stroke=\"#000000\"/>\n",
       "<polygon fill=\"#000000\" points=\"202.207,-127.5001 212.2069,-124 202.2069,-120.5001 202.207,-127.5001\" stroke=\"#000000\"/>\n",
       "</a>\n",
       "</g>\n",
       "</g>\n",
       "<!-- 2 Input&#45;&#45;4 Hidden 1 -->\n",
       "<g class=\"edge\" id=\"edge8\">\n",
       "\n",
       "<g id=\"a_edge8\"><a xlink:title=\"w42\">\n",
       "<path d=\"M66.8338,-116.2945C99.2593,-102.9229 166.1232,-75.3496 204.2283,-59.6358\" fill=\"none\" stroke=\"#000000\"/>\n",
       "<polygon fill=\"#000000\" points=\"205.7992,-62.774 213.7096,-55.7259 203.1305,-56.3027 205.7992,-62.774\" stroke=\"#000000\"/>\n",
       "</a>\n",
       "</g>\n",
       "</g>\n",
       "</g>\n",
       "</svg>"
      ],
      "text/plain": [
       "<IPython.core.display.SVG object>"
      ]
     },
     "execution_count": 14,
     "metadata": {},
     "output_type": "execute_result"
    }
   ],
   "source": [
    "# Create a diagram with 2 input units and 4 hidden units\n",
    "# (ignoring output units now by setting to 0)\n",
    "viewnet(layers=[2,4,0])"
   ]
  },
  {
   "cell_type": "markdown",
   "metadata": {},
   "source": [
    "This can be represented by:\n",
    "\n",
    "\\begin{equation}\n",
    "z_j = \\sigma(a_j) = \\sigma(\\sum_{i=1}^{D}w_{ji}x_i + w_{j0})\n",
    "\\end{equation}\n",
    "\n",
    "Where $a_j$ is our \"activation\" which is transformed by the nonlinear \"activation function\" $\\sigma$\n",
    "\n",
    "Or, if we define $x_0$ to be constant 1, we can write it in vector form as:\n",
    "\n",
    "\\begin{equation}\n",
    "\\mathbf{z} = \\sigma(W \\mathbf{x})\n",
    "\\end{equation}\n",
    "\n",
    "(the sigmoid being element-wise)"
   ]
  },
  {
   "cell_type": "markdown",
   "metadata": {},
   "source": [
    "For example, with the appropriate weights and biases we can represent various boolean functions. Here an output > 0.5 is true and < 0.5 is false."
   ]
  },
  {
   "cell_type": "code",
   "execution_count": 15,
   "metadata": {},
   "outputs": [
    {
     "name": "stdout",
     "output_type": "stream",
     "text": [
      "W = \n",
      " [[-3.  2.  2.]\n",
      " [-1.  2.  2.]\n",
      " [ 3. -2. -2.]\n",
      " [ 1. -2. -2.]] \n",
      "\n",
      "x =  [1, 0, 1] \n",
      "\n",
      "activation: [-1.  1.  1. -1.]\n",
      "nonlinear transform: [0.26894142 0.73105858 0.73105858 0.26894142]\n"
     ]
    }
   ],
   "source": [
    "biases = [-3, -1, 3, 1]\n",
    "\n",
    "weights = [[ 2.,  2.], # AND\n",
    "           [ 2.,  2.], # OR\n",
    "           [-2., -2.], # NAND\n",
    "           [-2., -2.]] # NOR\n",
    "\n",
    "# concatenate the biases and weights into one array\n",
    "W = zeros((4,3))\n",
    "W[:,0], W[:,1:] = biases, weights\n",
    "\n",
    "print('W = \\n', W, '\\n')\n",
    "\n",
    "# test with x1=0, x2=1\n",
    "x = [0, 1]\n",
    "\n",
    "# set x0 to be constant 1\n",
    "x = [1] + x\n",
    "\n",
    "print('x = ', x, '\\n')\n",
    "\n",
    "print('activation:', dot(W, x))\n",
    "print('nonlinear transform:', sigmoid(dot(W, x)))"
   ]
  },
  {
   "cell_type": "markdown",
   "metadata": {},
   "source": [
    "We make a couple of functions to compute a sigmoid and tanh layer"
   ]
  },
  {
   "cell_type": "code",
   "execution_count": 16,
   "metadata": {},
   "outputs": [],
   "source": [
    "def sigmoid_layer(x, W):\n",
    "    assert x[0] == 1\n",
    "    return sigmoid(dot(W, x))\n",
    "\n",
    "def tanh_layer(x, W):\n",
    "    assert x[0] == 1\n",
    "    return tanh(dot(W, x))"
   ]
  },
  {
   "cell_type": "markdown",
   "metadata": {},
   "source": [
    "Using our boolean weights with a tanh unit, we get a positive value for true and a negative value for false."
   ]
  },
  {
   "cell_type": "code",
   "execution_count": 17,
   "metadata": {},
   "outputs": [
    {
     "name": "stdout",
     "output_type": "stream",
     "text": [
      "x1  x2    AND         OR          NAND        NOR\n",
      "0   0   [-0.99505475 -0.76159416  0.99505475  0.76159416]\n",
      "0   1   [-0.76159416  0.76159416  0.76159416 -0.76159416]\n",
      "1   0   [-0.76159416  0.76159416  0.76159416 -0.76159416]\n",
      "1   1   [ 0.76159416  0.99505475 -0.76159416 -0.99505475]\n"
     ]
    }
   ],
   "source": [
    "print('x1  x2    AND         OR          NAND        NOR')\n",
    "for x1 in (0,1):\n",
    "    for x2 in (0,1):\n",
    "        print(x1, ' ', x2, ' ', tanh_layer([1, x1, x2], W))"
   ]
  },
  {
   "cell_type": "markdown",
   "metadata": {},
   "source": [
    "So far so good, but this is all stuff we could do with a Perceptron (a simple threshold unit, ie $\\operatorname{sign}(\\mathbf{w}.\\mathbf{x})$). Why do we need the sigmoidal function?\n",
    "\n",
    "Well, with a single non-linear layer (sigmoidal or perceptron) there are functions we cannot represent, for example no configuration of the weights above would allow us to compute boolean XOR. However, with additional layers the story is different. Indeed, some combination of NAND units is sufficient to compute any boolean function. In fact any boolean function can be computed with just two layers, using a combination of OR and AND units, since any boolean function can be expressed in disjunctive normal form (an OR of ANDs of inputs and their negations, where negation can be expressed by the weights).\n",
    "\n",
    "This gives us greater representational power, but still could be done by multiple layers of perceptron units. The difference is when it comes to learning the weights from samples. There is no efficient learning rule for multiple layers of perceptron units, but because the sigmoid units are smooth we can find their gradient, which gives rise to an efficient learning algorithm called Backpropagation."
   ]
  },
  {
   "cell_type": "code",
   "execution_count": 18,
   "metadata": {},
   "outputs": [
    {
     "name": "stdout",
     "output_type": "stream",
     "text": [
      "x1  x2  XOR\n",
      "0   0   [-0.64491267]\n",
      "0   1   [0.48015701]\n",
      "1   0   [0.48015701]\n",
      "1   1   [-0.64491267]\n"
     ]
    }
   ],
   "source": [
    "# Implement XOR, by setting weights such that\n",
    "# the AND and OR columns above are added, then -1\n",
    "#\n",
    "#                bias AND  OR   NAND NOR\n",
    "W_out = array([[-1.0, 0.0, 1.0, 1.0, 0.0]])\n",
    "\n",
    "print('x1  x2  XOR')\n",
    "        \n",
    "for x1 in (0,1):\n",
    "    for x2 in (0,1):\n",
    "        print(x1, ' ', x2, ' ', tanh_layer([1]+list(tanh_layer([1, x1, x2], W)), W_out))"
   ]
  },
  {
   "cell_type": "markdown",
   "metadata": {},
   "source": [
    "A diagram of our \"handmade\" XOR net."
   ]
  },
  {
   "cell_type": "code",
   "execution_count": 19,
   "metadata": {},
   "outputs": [
    {
     "data": {
      "image/svg+xml": [
       "<svg height=\"355pt\" viewBox=\"0.00 0.00 472.89 355.00\" width=\"473pt\" xmlns=\"http://www.w3.org/2000/svg\" xmlns:xlink=\"http://www.w3.org/1999/xlink\">\n",
       "<g class=\"graph\" id=\"graph0\" transform=\"scale(1 1) rotate(0) translate(4 351)\">\n",
       "\n",
       "<polygon fill=\"#ffffff\" points=\"-4,4 -4,-351 468.8893,-351 468.8893,4 -4,4\" stroke=\"transparent\"/>\n",
       "<g class=\"cluster\" id=\"clust1\">\n",
       "\n",
       "<polygon fill=\"#ff9999\" points=\"8,-84 8,-263 88.2964,-263 88.2964,-84 8,-84\" stroke=\"#000000\"/>\n",
       "<text fill=\"#000000\" font-family=\"sans-serif\" font-size=\"14.00\" text-anchor=\"middle\" x=\"48.1482\" y=\"-247.8\">Input</text>\n",
       "</g>\n",
       "<g class=\"cluster\" id=\"clust2\">\n",
       "\n",
       "<polygon fill=\"#99ff99\" points=\"192.2964,-8 192.2964,-339 272.5928,-339 272.5928,-8 192.2964,-8\" stroke=\"#000000\"/>\n",
       "<text fill=\"#000000\" font-family=\"sans-serif\" font-size=\"14.00\" text-anchor=\"middle\" x=\"232.4446\" y=\"-323.8\">Hidden 1</text>\n",
       "</g>\n",
       "<g class=\"cluster\" id=\"clust3\">\n",
       "\n",
       "<polygon fill=\"#9999ff\" points=\"376.5928,-84 376.5928,-187 456.8893,-187 456.8893,-84 376.5928,-84\" stroke=\"#000000\"/>\n",
       "<text fill=\"#000000\" font-family=\"sans-serif\" font-size=\"14.00\" text-anchor=\"middle\" x=\"416.7411\" y=\"-171.8\">Output</text>\n",
       "</g>\n",
       "<!-- 1 Input -->\n",
       "<g class=\"node\" id=\"node1\">\n",
       "\n",
       "<ellipse cx=\"48.1482\" cy=\"-200\" fill=\"none\" rx=\"20.2975\" ry=\"20.2975\" stroke=\"#000000\"/>\n",
       "<text fill=\"#000000\" font-family=\"sans-serif\" font-size=\"14.00\" text-anchor=\"middle\" x=\"48.1482\" y=\"-196.3\">x1</text>\n",
       "</g>\n",
       "<!-- 1 Hidden 1 -->\n",
       "<g class=\"node\" id=\"node3\">\n",
       "\n",
       "<g id=\"a_node3\"><a xlink:title=\"bias=-3\">\n",
       "<ellipse cx=\"232.4446\" cy=\"-276\" fill=\"none\" rx=\"20.2975\" ry=\"20.2975\" stroke=\"#000000\"/>\n",
       "<text fill=\"#000000\" font-family=\"sans-serif\" font-size=\"14.00\" text-anchor=\"middle\" x=\"232.4446\" y=\"-272.3\">z1</text>\n",
       "</a>\n",
       "</g>\n",
       "<polygon fill=\"#ffffff\" points=\"177.2964,-240.8518 177.2964,-255.8518 212.2964,-255.8518 212.2964,-240.8518 177.2964,-240.8518\" stroke=\"transparent\"/>\n",
       "<text fill=\"#ff0000\" font-family=\"sans-serif\" font-size=\"10.00\" text-anchor=\"start\" x=\"179.7964\" y=\"-245.3518\">bias -3</text>\n",
       "</g>\n",
       "<!-- 1 Input&#45;&#45;1 Hidden 1 -->\n",
       "<g class=\"edge\" id=\"edge1\">\n",
       "\n",
       "<g id=\"a_edge1\"><a xlink:title=\"w11=2\">\n",
       "<path d=\"M66.8338,-207.7055C99.2593,-221.0771 166.1232,-248.6504 204.2283,-264.3642\" fill=\"none\" stroke=\"#000000\"/>\n",
       "<polygon fill=\"#000000\" points=\"203.1305,-267.6973 213.7096,-268.2741 205.7992,-261.226 203.1305,-267.6973\" stroke=\"#000000\"/>\n",
       "</a>\n",
       "</g>\n",
       "<text fill=\"#000000\" font-family=\"Times,serif\" font-size=\"14.00\" text-anchor=\"middle\" x=\"114.031\" y=\"-224.8348\">     2     </text>\n",
       "</g>\n",
       "<!-- 2 Hidden 1 -->\n",
       "<g class=\"node\" id=\"node4\">\n",
       "\n",
       "<g id=\"a_node4\"><a xlink:title=\"bias=-1\">\n",
       "<ellipse cx=\"232.4446\" cy=\"-200\" fill=\"none\" rx=\"20.2975\" ry=\"20.2975\" stroke=\"#000000\"/>\n",
       "<text fill=\"#000000\" font-family=\"sans-serif\" font-size=\"14.00\" text-anchor=\"middle\" x=\"232.4446\" y=\"-196.3\">z2</text>\n",
       "</a>\n",
       "</g>\n",
       "<polygon fill=\"#ffffff\" points=\"177.2964,-164.8518 177.2964,-179.8518 212.2964,-179.8518 212.2964,-164.8518 177.2964,-164.8518\" stroke=\"transparent\"/>\n",
       "<text fill=\"#ff0000\" font-family=\"sans-serif\" font-size=\"10.00\" text-anchor=\"start\" x=\"179.7964\" y=\"-169.3518\">bias -1</text>\n",
       "</g>\n",
       "<!-- 1 Input&#45;&#45;2 Hidden 1 -->\n",
       "<g class=\"edge\" id=\"edge2\">\n",
       "\n",
       "<g id=\"a_edge2\"><a xlink:title=\"w21=2\">\n",
       "<path d=\"M68.5753,-200C100.9034,-200 164.0528,-200 201.819,-200\" fill=\"none\" stroke=\"#000000\"/>\n",
       "<polygon fill=\"#000000\" points=\"202.207,-203.5001 212.2069,-200 202.2069,-196.5001 202.207,-203.5001\" stroke=\"#000000\"/>\n",
       "</a>\n",
       "</g>\n",
       "<text fill=\"#000000\" font-family=\"Times,serif\" font-size=\"14.00\" text-anchor=\"middle\" x=\"113.6972\" y=\"-188.8\">     2     </text>\n",
       "</g>\n",
       "<!-- 3 Hidden 1 -->\n",
       "<g class=\"node\" id=\"node5\">\n",
       "\n",
       "<g id=\"a_node5\"><a xlink:title=\"bias=+3\">\n",
       "<ellipse cx=\"232.4446\" cy=\"-124\" fill=\"none\" rx=\"20.2975\" ry=\"20.2975\" stroke=\"#000000\"/>\n",
       "<text fill=\"#000000\" font-family=\"sans-serif\" font-size=\"14.00\" text-anchor=\"middle\" x=\"232.4446\" y=\"-120.3\">z3</text>\n",
       "</a>\n",
       "</g>\n",
       "<polygon fill=\"#ffffff\" points=\"175.2964,-88.8518 175.2964,-103.8518 212.2964,-103.8518 212.2964,-88.8518 175.2964,-88.8518\" stroke=\"transparent\"/>\n",
       "<text fill=\"#ff0000\" font-family=\"sans-serif\" font-size=\"10.00\" text-anchor=\"start\" x=\"177.7964\" y=\"-93.3518\">bias +3</text>\n",
       "</g>\n",
       "<!-- 1 Input&#45;&#45;3 Hidden 1 -->\n",
       "<g class=\"edge\" id=\"edge3\">\n",
       "\n",
       "<g id=\"a_edge3\"><a xlink:title=\"w31=-2\">\n",
       "<path d=\"M66.8338,-192.2945C99.2593,-178.9229 166.1232,-151.3496 204.2283,-135.6358\" fill=\"none\" stroke=\"#000000\"/>\n",
       "<polygon fill=\"#000000\" points=\"205.7992,-138.774 213.7096,-131.7259 203.1305,-132.3027 205.7992,-138.774\" stroke=\"#000000\"/>\n",
       "</a>\n",
       "</g>\n",
       "<text fill=\"#000000\" font-family=\"Times,serif\" font-size=\"14.00\" text-anchor=\"middle\" x=\"112.031\" y=\"-152.7652\">     -2     </text>\n",
       "</g>\n",
       "<!-- 4 Hidden 1 -->\n",
       "<g class=\"node\" id=\"node6\">\n",
       "\n",
       "<g id=\"a_node6\"><a xlink:title=\"bias=+1\">\n",
       "<ellipse cx=\"232.4446\" cy=\"-48\" fill=\"none\" rx=\"20.2975\" ry=\"20.2975\" stroke=\"#000000\"/>\n",
       "<text fill=\"#000000\" font-family=\"sans-serif\" font-size=\"14.00\" text-anchor=\"middle\" x=\"232.4446\" y=\"-44.3\">z4</text>\n",
       "</a>\n",
       "</g>\n",
       "<polygon fill=\"#ffffff\" points=\"175.2964,-12.8518 175.2964,-27.8518 212.2964,-27.8518 212.2964,-12.8518 175.2964,-12.8518\" stroke=\"transparent\"/>\n",
       "<text fill=\"#ff0000\" font-family=\"sans-serif\" font-size=\"10.00\" text-anchor=\"start\" x=\"177.7964\" y=\"-17.3518\">bias +1</text>\n",
       "</g>\n",
       "<!-- 1 Input&#45;&#45;4 Hidden 1 -->\n",
       "<g class=\"edge\" id=\"edge4\">\n",
       "\n",
       "<g id=\"a_edge4\"><a xlink:title=\"w41=-2\">\n",
       "<path d=\"M63.8612,-187.0406C96.2318,-160.3427 170.5139,-99.0779 208.7486,-67.5435\" fill=\"none\" stroke=\"#000000\"/>\n",
       "<polygon fill=\"#000000\" points=\"211.2837,-69.9895 216.7714,-60.9266 206.8298,-64.5893 211.2837,-69.9895\" stroke=\"#000000\"/>\n",
       "</a>\n",
       "</g>\n",
       "<text fill=\"#000000\" font-family=\"Times,serif\" font-size=\"14.00\" text-anchor=\"middle\" x=\"159.8049\" y=\"-116.092\">     -2     </text>\n",
       "</g>\n",
       "<!-- 2 Input -->\n",
       "<g class=\"node\" id=\"node2\">\n",
       "\n",
       "<ellipse cx=\"48.1482\" cy=\"-124\" fill=\"none\" rx=\"20.2975\" ry=\"20.2975\" stroke=\"#000000\"/>\n",
       "<text fill=\"#000000\" font-family=\"sans-serif\" font-size=\"14.00\" text-anchor=\"middle\" x=\"48.1482\" y=\"-120.3\">x2</text>\n",
       "</g>\n",
       "<!-- 2 Input&#45;&#45;1 Hidden 1 -->\n",
       "<g class=\"edge\" id=\"edge5\">\n",
       "\n",
       "<g id=\"a_edge5\"><a xlink:title=\"w12=2\">\n",
       "<path d=\"M63.8612,-136.9594C96.2318,-163.6573 170.5139,-224.9221 208.7486,-256.4565\" fill=\"none\" stroke=\"#000000\"/>\n",
       "<polygon fill=\"#000000\" points=\"206.8298,-259.4107 216.7714,-263.0734 211.2837,-254.0105 206.8298,-259.4107\" stroke=\"#000000\"/>\n",
       "</a>\n",
       "</g>\n",
       "<text fill=\"#000000\" font-family=\"Times,serif\" font-size=\"14.00\" text-anchor=\"middle\" x=\"157.8049\" y=\"-185.508\">     2     </text>\n",
       "</g>\n",
       "<!-- 2 Input&#45;&#45;2 Hidden 1 -->\n",
       "<g class=\"edge\" id=\"edge6\">\n",
       "\n",
       "<g id=\"a_edge6\"><a xlink:title=\"w22=2\">\n",
       "<path d=\"M66.8338,-131.7055C99.2593,-145.0771 166.1232,-172.6504 204.2283,-188.3642\" fill=\"none\" stroke=\"#000000\"/>\n",
       "<polygon fill=\"#000000\" points=\"203.1305,-191.6973 213.7096,-192.2741 205.7992,-185.226 203.1305,-191.6973\" stroke=\"#000000\"/>\n",
       "</a>\n",
       "</g>\n",
       "<text fill=\"#000000\" font-family=\"Times,serif\" font-size=\"14.00\" text-anchor=\"middle\" x=\"157.031\" y=\"-148.8348\">     2     </text>\n",
       "</g>\n",
       "<!-- 2 Input&#45;&#45;3 Hidden 1 -->\n",
       "<g class=\"edge\" id=\"edge7\">\n",
       "\n",
       "<g id=\"a_edge7\"><a xlink:title=\"w32=-2\">\n",
       "<path d=\"M68.5753,-124C100.9034,-124 164.0528,-124 201.819,-124\" fill=\"none\" stroke=\"#000000\"/>\n",
       "<polygon fill=\"#000000\" points=\"202.207,-127.5001 212.2069,-124 202.2069,-120.5001 202.207,-127.5001\" stroke=\"#000000\"/>\n",
       "</a>\n",
       "</g>\n",
       "<text fill=\"#000000\" font-family=\"Times,serif\" font-size=\"14.00\" text-anchor=\"middle\" x=\"111.6972\" y=\"-112.8\">     -2     </text>\n",
       "</g>\n",
       "<!-- 2 Input&#45;&#45;4 Hidden 1 -->\n",
       "<g class=\"edge\" id=\"edge8\">\n",
       "\n",
       "<g id=\"a_edge8\"><a xlink:title=\"w42=-2\">\n",
       "<path d=\"M66.8338,-116.2945C99.2593,-102.9229 166.1232,-75.3496 204.2283,-59.6358\" fill=\"none\" stroke=\"#000000\"/>\n",
       "<polygon fill=\"#000000\" points=\"205.7992,-62.774 213.7096,-55.7259 203.1305,-56.3027 205.7992,-62.774\" stroke=\"#000000\"/>\n",
       "</a>\n",
       "</g>\n",
       "<text fill=\"#000000\" font-family=\"Times,serif\" font-size=\"14.00\" text-anchor=\"middle\" x=\"112.031\" y=\"-76.7652\">     -2     </text>\n",
       "</g>\n",
       "<!-- 1 Output -->\n",
       "<g class=\"node\" id=\"node7\">\n",
       "\n",
       "<g id=\"a_node7\"><a xlink:title=\"bias=-1\">\n",
       "<ellipse cx=\"416.7411\" cy=\"-124\" fill=\"none\" rx=\"20.2975\" ry=\"20.2975\" stroke=\"#000000\"/>\n",
       "<text fill=\"#000000\" font-family=\"sans-serif\" font-size=\"14.00\" text-anchor=\"middle\" x=\"416.7411\" y=\"-120.3\">y1</text>\n",
       "</a>\n",
       "</g>\n",
       "<polygon fill=\"#ffffff\" points=\"361.5928,-88.8518 361.5928,-103.8518 396.5928,-103.8518 396.5928,-88.8518 361.5928,-88.8518\" stroke=\"transparent\"/>\n",
       "<text fill=\"#ff0000\" font-family=\"sans-serif\" font-size=\"10.00\" text-anchor=\"start\" x=\"364.0928\" y=\"-93.3518\">bias -1</text>\n",
       "</g>\n",
       "<!-- 1 Hidden 1&#45;&#45;1 Output -->\n",
       "<g class=\"edge\" id=\"edge9\">\n",
       "\n",
       "<g id=\"a_edge9\"><a xlink:title=\"w11=0\">\n",
       "<path d=\"M248.1576,-263.0406C280.5282,-236.3427 354.8103,-175.0779 393.045,-143.5435\" fill=\"none\" stroke=\"#000000\"/>\n",
       "<polygon fill=\"#000000\" points=\"395.5801,-145.9895 401.0678,-136.9266 391.1262,-140.5893 395.5801,-145.9895\" stroke=\"#000000\"/>\n",
       "</a>\n",
       "</g>\n",
       "<text fill=\"#000000\" font-family=\"Times,serif\" font-size=\"14.00\" text-anchor=\"middle\" x=\"299.1013\" y=\"-192.092\">     0     </text>\n",
       "</g>\n",
       "<!-- 2 Hidden 1&#45;&#45;1 Output -->\n",
       "<g class=\"edge\" id=\"edge10\">\n",
       "\n",
       "<g id=\"a_edge10\"><a xlink:title=\"w12=1\">\n",
       "<path d=\"M251.1302,-192.2945C283.5557,-178.9229 350.4197,-151.3496 388.5247,-135.6358\" fill=\"none\" stroke=\"#000000\"/>\n",
       "<polygon fill=\"#000000\" points=\"390.0956,-138.774 398.0061,-131.7259 387.4269,-132.3027 390.0956,-138.774\" stroke=\"#000000\"/>\n",
       "</a>\n",
       "</g>\n",
       "<text fill=\"#000000\" font-family=\"Times,serif\" font-size=\"14.00\" text-anchor=\"middle\" x=\"298.3275\" y=\"-152.7652\">     1     </text>\n",
       "</g>\n",
       "<!-- 3 Hidden 1&#45;&#45;1 Output -->\n",
       "<g class=\"edge\" id=\"edge11\">\n",
       "\n",
       "<g id=\"a_edge11\"><a xlink:title=\"w13=1\">\n",
       "<path d=\"M252.8717,-124C285.1998,-124 348.3492,-124 386.1154,-124\" fill=\"none\" stroke=\"#000000\"/>\n",
       "<polygon fill=\"#000000\" points=\"386.5034,-127.5001 396.5034,-124 386.5033,-120.5001 386.5034,-127.5001\" stroke=\"#000000\"/>\n",
       "</a>\n",
       "</g>\n",
       "<text fill=\"#000000\" font-family=\"Times,serif\" font-size=\"14.00\" text-anchor=\"middle\" x=\"297.9936\" y=\"-112.8\">     1     </text>\n",
       "</g>\n",
       "<!-- 4 Hidden 1&#45;&#45;1 Output -->\n",
       "<g class=\"edge\" id=\"edge12\">\n",
       "\n",
       "<g id=\"a_edge12\"><a xlink:title=\"w14=0\">\n",
       "<path d=\"M251.1302,-55.7055C283.5557,-69.0771 350.4197,-96.6504 388.5247,-112.3642\" fill=\"none\" stroke=\"#000000\"/>\n",
       "<polygon fill=\"#000000\" points=\"387.4269,-115.6973 398.0061,-116.2741 390.0956,-109.226 387.4269,-115.6973\" stroke=\"#000000\"/>\n",
       "</a>\n",
       "</g>\n",
       "<text fill=\"#000000\" font-family=\"Times,serif\" font-size=\"14.00\" text-anchor=\"middle\" x=\"298.3275\" y=\"-72.8348\">     0     </text>\n",
       "</g>\n",
       "</g>\n",
       "</svg>"
      ],
      "text/plain": [
       "<IPython.core.display.SVG object>"
      ]
     },
     "execution_count": 19,
     "metadata": {},
     "output_type": "execute_result"
    }
   ],
   "source": [
    "viewnet(layers=[2,4,1], weights=[W, W_out])"
   ]
  },
  {
   "cell_type": "code",
   "execution_count": 20,
   "metadata": {},
   "outputs": [
    {
     "data": {
      "text/plain": [
       "<matplotlib.collections.PathCollection at 0x1163146d8>"
      ]
     },
     "execution_count": 20,
     "metadata": {},
     "output_type": "execute_result"
    },
    {
     "data": {
      "image/png": "[encoded data removed]",
      "text/plain": [
       "<Figure size 432x288 with 1 Axes>"
      ]
     },
     "metadata": {
      "needs_background": "light"
     },
     "output_type": "display_data"
    }
   ],
   "source": [
    "#TODO...maybe try an example like this\n",
    "\n",
    "xs = 2 * random.random(100) - 1\n",
    "ys = 2 * random.random(100) - 1\n",
    "\n",
    "training = array([xs, ys]).T\n",
    "targets = ys > sin(4 * xs) + randn(100)\n",
    "\n",
    "plot(linspace(-1,1),sin(4 * linspace(-1,1)), 'g')\n",
    "\n",
    "\n",
    "#scatter(xs, ys, c=targets)\n",
    "scatter(xs[targets], ys[targets], c='b', marker='+')\n",
    "scatter(xs[~targets], ys[~targets], c='r', marker='x')"
   ]
  },
  {
   "cell_type": "code",
   "execution_count": null,
   "metadata": {},
   "outputs": [],
   "source": []
  }
 ],
 "metadata": {
  "kernelspec": {
   "display_name": "Python 3",
   "language": "python",
   "name": "python3"
  },
  "language_info": {
   "codemirror_mode": {
    "name": "ipython",
    "version": 3
   },
   "file_extension": ".py",
   "mimetype": "text/x-python",
   "name": "python",
   "nbconvert_exporter": "python",
   "pygments_lexer": "ipython3",
   "version": "3.7.2"
  }
 },
 "nbformat": 4,
 "nbformat_minor": 1
}
